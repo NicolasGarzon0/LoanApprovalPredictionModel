{
 "cells": [
  {
   "cell_type": "markdown",
   "metadata": {},
   "source": [
    "## Data Preprocessing\n",
    "\n",
    "In this notebook, we clean and prepare the dataset for modeling. This includes handling categorical variables, encoding, and setting up features and target variables for training. Log transformations and outlier capping were explored but ultimately discarded based on performance results.\n"
   ]
  },
  {
   "cell_type": "code",
   "execution_count": 2,
   "metadata": {},
   "outputs": [],
   "source": [
    "# Import Necessary Libraries\n",
    "import pandas as pd\n",
    "import numpy as np\n",
    "from sklearn import preprocessing"
   ]
  },
  {
   "cell_type": "markdown",
   "metadata": {},
   "source": [
    "## Load and Prepare Dataset\n",
    "\n",
    "We standardize column names and clean up string formatting.\n"
   ]
  },
  {
   "cell_type": "code",
   "execution_count": 3,
   "metadata": {},
   "outputs": [],
   "source": [
    "#Load The Data\n",
    "df = pd.read_csv(\"data/train.csv\")\n",
    "df.columns = df.columns.str.strip().str.lower().str.replace(' ', '_')"
   ]
  },
  {
   "cell_type": "markdown",
   "metadata": {},
   "source": [
    "## Encode Categorical Variables\n",
    "\n",
    "We map binary features and apply one-hot encoding to nominal variables to prepare for models that require numerical inputs.\n"
   ]
  },
  {
   "cell_type": "code",
   "execution_count": null,
   "metadata": {},
   "outputs": [],
   "source": [
    "#Encoding Categorical Variables\n",
    "\n",
    "df['cb_person_default_on_file'] = df['cb_person_default_on_file'].str.strip().str.upper()\n",
    "df['cb_person_default_on_file'] = df['cb_person_default_on_file'].map({'Y': 1, 'N': 0})\n",
    "\n",
    "df = pd.get_dummies(df, columns=['person_home_ownership', 'loan_intent'], drop_first=True)\n",
    "\n",
    "label_encoder = preprocessing.LabelEncoder()\n",
    "df['loan_grade']= label_encoder.fit_transform(df['loan_grade'])\n",
    "\n",
    "df = df.astype({col: 'int' for col in df.select_dtypes('bool').columns})\n",
    "df.columns = df.columns.str.strip().str.replace(\" \", \"_\")\n",
    "\n",
    "df.to_csv(\"data/train_preprocessed.csv\", index=False)\n"
   ]
  }
 ],
 "metadata": {
  "kernelspec": {
   "display_name": ".venv",
   "language": "python",
   "name": "python3"
  },
  "language_info": {
   "codemirror_mode": {
    "name": "ipython",
    "version": 3
   },
   "file_extension": ".py",
   "mimetype": "text/x-python",
   "name": "python",
   "nbconvert_exporter": "python",
   "pygments_lexer": "ipython3",
   "version": "3.12.6"
  }
 },
 "nbformat": 4,
 "nbformat_minor": 2
}
