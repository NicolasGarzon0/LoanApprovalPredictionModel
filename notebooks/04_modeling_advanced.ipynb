{
 "cells": [
  {
   "cell_type": "markdown",
   "metadata": {},
   "source": [
    "## Advanced Modeling"
   ]
  },
  {
   "cell_type": "markdown",
   "metadata": {},
   "source": [
    "## 1. Introduction\n",
    "\n",
    "In this notebook, we evaluate advanced models to improve upon the logistic regression baseline. We test Random Forest, Gradient Boosting, CatBoost, and LightGBM classifiers, using AUC-ROC as our evaluation metric.\n"
   ]
  },
  {
   "cell_type": "markdown",
   "metadata": {},
   "source": [
    "## 2. Train and Evaluate Multiple Models\n",
    "\n",
    "We train each model on the same train-test split and evaluate them using AUC-ROC. This allows for direct comparison of their performance.\n"
   ]
  },
  {
   "cell_type": "code",
   "execution_count": 14,
   "metadata": {},
   "outputs": [],
   "source": [
    "# Import Libraries and Load Dataset\n",
    "import pandas as pd\n",
    "from src.utils import evaluate_model_on_dataset, evaluate_catboost_on_dataset, evaluate_lightgbm_on_dataset\n",
    "from sklearn.ensemble import RandomForestClassifier, GradientBoostingClassifier\n",
    "\n",
    "train_preprocessed_dataset = pd.read_csv(\"data/train_preprocessed.csv\")"
   ]
  },
  {
   "cell_type": "code",
   "execution_count": 15,
   "metadata": {},
   "outputs": [],
   "source": [
    "# Random Forest Classifier\n",
    "model = RandomForestClassifier(n_estimators=100, random_state=42)\n",
    "result_random_forest = evaluate_model_on_dataset(train_preprocessed_dataset, model)"
   ]
  },
  {
   "cell_type": "code",
   "execution_count": 16,
   "metadata": {},
   "outputs": [],
   "source": [
    "# Gradient Boosting Classifier\n",
    "model = GradientBoostingClassifier(n_estimators=100, random_state=42)\n",
    "result_gradient_boosting = evaluate_model_on_dataset(train_preprocessed_dataset, model)"
   ]
  },
  {
   "cell_type": "code",
   "execution_count": 17,
   "metadata": {},
   "outputs": [],
   "source": [
    "# CatBoost Classifier\n",
    "categorical_cols = ['cb_person_default_on_file', 'person_home_ownership', 'loan_intent', 'loan_grade']\n",
    "result_catboost = evaluate_catboost_on_dataset(train_preprocessed_dataset, target_col='loan_status', categorical_cols=categorical_cols)"
   ]
  },
  {
   "cell_type": "code",
   "execution_count": 18,
   "metadata": {},
   "outputs": [],
   "source": [
    "# LightGBM Classifier\n",
    "result_lightgbm = evaluate_lightgbm_on_dataset(train_preprocessed_dataset, target_col=\"loan_status\")"
   ]
  },
  {
   "cell_type": "markdown",
   "metadata": {},
   "source": [
    "## 3. AUC Score Comparison\n",
    "\n",
    "We compare AUC scores across all models tested.\n"
   ]
  },
  {
   "cell_type": "code",
   "execution_count": 19,
   "metadata": {},
   "outputs": [
    {
     "data": {
      "text/html": [
       "<div>\n",
       "<style scoped>\n",
       "    .dataframe tbody tr th:only-of-type {\n",
       "        vertical-align: middle;\n",
       "    }\n",
       "\n",
       "    .dataframe tbody tr th {\n",
       "        vertical-align: top;\n",
       "    }\n",
       "\n",
       "    .dataframe thead th {\n",
       "        text-align: right;\n",
       "    }\n",
       "</style>\n",
       "<table border=\"1\" class=\"dataframe\">\n",
       "  <thead>\n",
       "    <tr style=\"text-align: right;\">\n",
       "      <th></th>\n",
       "      <th>Model</th>\n",
       "      <th>AUC</th>\n",
       "    </tr>\n",
       "  </thead>\n",
       "  <tbody>\n",
       "    <tr>\n",
       "      <th>0</th>\n",
       "      <td>LightGBM</td>\n",
       "      <td>0.955654</td>\n",
       "    </tr>\n",
       "    <tr>\n",
       "      <th>1</th>\n",
       "      <td>CatBoost</td>\n",
       "      <td>0.943104</td>\n",
       "    </tr>\n",
       "    <tr>\n",
       "      <th>2</th>\n",
       "      <td>Gradient Boosting</td>\n",
       "      <td>0.941029</td>\n",
       "    </tr>\n",
       "    <tr>\n",
       "      <th>3</th>\n",
       "      <td>Random Forest</td>\n",
       "      <td>0.933250</td>\n",
       "    </tr>\n",
       "  </tbody>\n",
       "</table>\n",
       "</div>"
      ],
      "text/plain": [
       "               Model       AUC\n",
       "0           LightGBM  0.955654\n",
       "1           CatBoost  0.943104\n",
       "2  Gradient Boosting  0.941029\n",
       "3      Random Forest  0.933250"
      ]
     },
     "execution_count": 19,
     "metadata": {},
     "output_type": "execute_result"
    }
   ],
   "source": [
    "# Create DataFrame For AUC Results\n",
    "data = {\n",
    "\t'Model': ['CatBoost', 'Gradient Boosting', 'Random Forest', 'LightGBM'],\n",
    "\t'AUC': [result_catboost, result_gradient_boosting, result_random_forest, result_lightgbm]\n",
    "}\n",
    "df = pd.DataFrame(data)\n",
    "df = df.sort_values(by='AUC', ascending=False)\n",
    "df = df.reset_index(drop=True)\n",
    "df.head()"
   ]
  },
  {
   "cell_type": "markdown",
   "metadata": {},
   "source": [
    "## 4. Interpretation and Insights\n",
    "\n",
    "Among the models tested, **LightGBM** achieved the highest AUC of **~0.9557**, followed by **CatBoost (~0.9431)**, **Gradient Boosting (~0.9410)**, and **Random Forest (~0.9333)**.\n",
    "\n",
    "Key insights:\n",
    "- All advanced models outperformed the baseline logistic regression (AUC: 0.7814), indicating the value of tree-based ensembles for this classification problem.\n",
    "- LightGBM offered the best performance overall, making it the top candidate for further tuning and interpretation.\n",
    "- While Random Forest and Gradient Boosting also performed strongly, the efficiency and flexibility of LightGBM makes it preferable for final optimization.\n",
    "\n"
   ]
  }
 ],
 "metadata": {
  "kernelspec": {
   "display_name": ".venv",
   "language": "python",
   "name": "python3"
  },
  "language_info": {
   "codemirror_mode": {
    "name": "ipython",
    "version": 3
   },
   "file_extension": ".py",
   "mimetype": "text/x-python",
   "name": "python",
   "nbconvert_exporter": "python",
   "pygments_lexer": "ipython3",
   "version": "3.12.6"
  }
 },
 "nbformat": 4,
 "nbformat_minor": 2
}
